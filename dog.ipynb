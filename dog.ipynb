{
 "cells": [
  {
   "cell_type": "code",
   "execution_count": 1,
   "metadata": {},
   "outputs": [
    {
     "name": "stdout",
     "output_type": "stream",
     "text": [
      "WebDriver 객체 :  <class 'selenium.webdriver.chrome.webdriver.WebDriver'>\n"
     ]
    }
   ],
   "source": [
    "from selenium import webdriver #R과 달리 셀레늄 서버를 따로 기동할 필요 없다.\n",
    "from selenium.webdriver.common.keys import Keys \n",
    "import urllib.request\n",
    "from bs4 import BeautifulSoup\n",
    "import time \n",
    "from urllib.request import urlretrieve\n",
    "from urllib.parse import quote_plus\n",
    "\n",
    "driver = webdriver.Chrome('C:/Temp/chromedriver')\n",
    "print(\"WebDriver 객체 : \", type(driver))\n",
    "\n",
    "driver.get(\"https://www.flickr.com/\")\n",
    "#target=driver.find_element_by_class_name(\"quickResultLstCon\")"
   ]
  },
  {
   "cell_type": "code",
   "execution_count": 2,
   "metadata": {},
   "outputs": [],
   "source": [
    "from urllib.request import urlopen\n",
    "from bs4 import BeautifulSoup as bs\n",
    "from urllib.parse import quote_plus\n",
    "import re\n",
    "import time "
   ]
  },
  {
   "cell_type": "code",
   "execution_count": 3,
   "metadata": {},
   "outputs": [],
   "source": [
    "import pandas as pd\n",
    "import matplotlib.pyplot as plt\n",
    "import matplotlib\n",
    "import pandas as pd\n",
    "import numpy as np\n",
    "import matplotlib.pyplot as plt\n",
    "\n",
    "import warnings"
   ]
  },
  {
   "cell_type": "code",
   "execution_count": 5,
   "metadata": {},
   "outputs": [
    {
     "name": "stdout",
     "output_type": "stream",
     "text": [
      "                      affenpinscher\n",
      "0                      Afghan_hound\n",
      "1               African_hunting_dog\n",
      "2                          Airedale\n",
      "3    American_Staffordshire_terrier\n",
      "4                       Appenzeller\n",
      "..                              ...\n",
      "114          Welsh_springer_spaniel\n",
      "115     West_Highland_white_terrier\n",
      "116                         whippet\n",
      "117         wire-haired_fox_terrier\n",
      "118               Yorkshire_terrier\n",
      "\n",
      "[119 rows x 1 columns]\n"
     ]
    }
   ],
   "source": [
    "dogs = pd.read_excel('data/견종분류.xlsx')\n",
    "print(dogs)"
   ]
  },
  {
   "cell_type": "code",
   "execution_count": null,
   "metadata": {},
   "outputs": [],
   "source": [
    "검색사이트 주소 : https://www.google.com/search?q=affenpinscher&tbm=isch&tbs=rimg:CXJJ0GoyzhMXYXqdMqz5UNI1&hl=ko&sa=X&ved=0CAIQrnZqFwoTCMD70Lr-rvACFQAAAAAdAAAAABAG&biw=1903&bih=925data:image/jpeg;base64,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"
   ]
  },
  {
   "cell_type": "code",
   "execution_count": 32,
   "metadata": {},
   "outputs": [],
   "source": [
    "img = driver.find_element_by_css_selector('#islrg > div.islrc > div:nth-child(1) > a.wXeWr.islib.nfEiy.mM5pbd > div.bRMDJf.islir > img')\n",
    "\n",
    "img.get_attribute('src')\n",
    "\n",
    "driver.get(img.get_attribute('src'))\n",
    "\n",
    "body = driver.find_element_by_css_selector('body')\n",
    "\n",
    "body.send_keys(Keys.PAGE_DOWN)\n",
    "\n",
    "imgUrl = img.get_attribute('src')\n",
    "with urlopen(imgUrl) as f:\n",
    "    with open('images/'+'f.jpg','wb') as h: # 이미지 + 사진번호 + 확장자는 jpg\n",
    "        img = f.read() #이미지 읽기\n",
    "        h.write(img) "
   ]
  },
  {
   "cell_type": "code",
   "execution_count": 4,
   "metadata": {},
   "outputs": [],
   "source": [
    "#여러장 #구글이미지 #문제없이 수집되는 코드\n",
    "n=1\n",
    "img = driver.find_elements_by_css_selector('#islrg > div.islrc > div > a.wXeWr.islib.nfEiy.mM5pbd > div.bRMDJf.islir > img')    \n",
    "for i in img:\n",
    "    imgUrl = i.get_attribute('src')\n",
    "    with urlopen(imgUrl) as f:\n",
    "        with open('dogimages/KOREA JINDO DOG/'+str(n)+'.jpg','wb') as h: # 이미지 + 사진번호 + 확장자는 jpg\n",
    "            img = f.read() #이미지 읽기\n",
    "            h.write(img) \n",
    "            time.sleep(1)           \n",
    "            n = n+1\n",
    "    if n % 10 == 0 :\n",
    "        body = driver.find_element_by_css_selector('body')\n",
    "        body.send_keys(Keys.PAGE_DOWN)\n",
    "                "
   ]
  },
  {
   "cell_type": "code",
   "execution_count": 61,
   "metadata": {},
   "outputs": [],
   "source": [
    " '''body = driver.find_element_by_css_selector('body')\n",
    "    body.send_keys(Keys.PAGE_DOWN)\n",
    "    body.send_keys(Keys.PAGE_DOWN)\n",
    "    time.sleep(1)\n",
    "    body.send_keys(Keys.PAGE_DOWN) '''"
   ]
  },
  {
   "cell_type": "code",
   "execution_count": null,
   "metadata": {},
   "outputs": [],
   "source": [
    "dog_class = ['BICHON FRISE',\n",
    "'POMERANIAN',\n",
    "'FRENCH BULLDOG',\n",
    "'CHIHUAHUA',\n",
    "'MALTESE',\n",
    "'LABRADOR RETRIEVER',\n",
    "'KOREA JINDO DOG',\n",
    "'ITALIAN GREY HOUND',\n",
    "'WELSH CORGI PEMBROKE',\n",
    "'BULLDOG',\n",
    "'SHETLAND SHEEPDOG',\n",
    "'SHIBA',\n",
    "'GOLDEN RETRIEVER',\n",
    "'ROTTWEILER',\n",
    "'CANE CORSO',\n",
    "'PUG',\n",
    "'BEDLINGTON TERRIER',\n",
    "'GERMAN SHEPHERD DOG',\n",
    "'MINIATURE DACHSHUND',\n",
    "'CHOW CHOW',\n",
    "'DOBERMANN',\n",
    "'AMERICAN COCKER SPANIEL',\n",
    "'AKITA',\n",
    "'PEKINGESE',\n",
    "'CAUCASIAN OVTCHARKA',\n",
    "'YORKSHIRE TERRIER',\n",
    "'SAMOYED',\n",
    "'CENTRAL ASIAN OVTCHARKA',\n",
    "'SIBERIAN HUSKY',\n",
    "'GREAT DANE',\n",
    "'Whippets',\n",
    "'AMERICAN AKITA',\n",
    "'Papillons',\n",
    "'Border Collies',\n",
    "'BULL TERRIER',\n",
    "'SCHNAUZER',\n",
    "'AFGHAN HOUND',\n",
    "'DOGO ARGENTINO',\n",
    "'TIBETAN MASTIFF',\n",
    "'BELGIAN SHEPHERD DOG',\n",
    "'JACK RUSSELL TERRIER',\n",
    "'POODLE',\n",
    "'WEST SIBERIAN LAIKA',\n",
    "'Shih Tzu',\n",
    "'ANATOLIAN SHEPHERD DOG',\n",
    "'RABBIT DACHSHUND',\n",
    "'GERMAN POINTER',\n",
    "'IRISHSOFT COATED WHEATEN TERRIER',\n",
    "'Boston Terriers',\n",
    "'Boxers',\n",
    "'CZECHOSLOVAKIAN WOLFDOG',\n",
    "'AFFENPINSCHER',\n",
    "'COLLIE ROUGH',\n",
    "'Alaskan Malamutes',\n",
    "'WIRE FOX TERRIER',\n",
    "'WEIMARANER',\n",
    "'BASENJI',\n",
    "'EAST SIBERIAN LAIKA',\n",
    "'SCOTTISH TERRIER',\n",
    "'DOGO CANARIO',\n",
    "'JAPANESE CHIN',\n",
    "'AMERICAN STAFFORDSHIRE TERRIER',\n",
    "'KERRY BLUE TERRIER',\n",
    "'LAKELAND TERRIER',\n",
    "'NORFOLK TERRIER',\n",
    "'SMOOTH FOX TERRIER',\n",
    "'WEST HIGHLAND WHITE TERRIER',\n",
    "'PULI',\n",
    "'IRISH WOLF HOUND',\n",
    "'MINIATURE PINSCHER',\n",
    "'BULL MASTIFF',\n",
    "'BEAGLE',\n",
    "'BASSET HOUND',\n",
    "'CHINESE CRESTED DOG',\n",
    "'PYRENEAN MOUNTAIN DOG',\n",
    "'LHASA APSO',\n",
    "'NEWFOUNDLAND',\n",
    "'VIZSLA',\n",
    "'AUSTRALIAN SHEPHERD DOG',\n",
    "'BERNESE MOUNTAIN DOG',\n",
    "'BRACCO ITALIANO',\n",
    "'Leonbergers',\n",
    "'NEAPOLITAN MASTIFF',\n",
    "'NORWICH TERRIER',\n",
    "'PARSON RUSSELL TERRIER',\n",
    "'RHODESIAN RIDGEBACK',\n",
    "'English Springer Spaniels']"
   ]
  },
  {
   "cell_type": "code",
   "execution_count": null,
   "metadata": {},
   "outputs": [],
   "source": [
    "dog_class = [\n",
    "\n",
    "\n",
    "\n",
    "\n",
    "\n",
    "\n",
    "\n",
    "\n",
    "\n",
    "\n",
    "\n",
    "\n",
    "\n",
    "'BEDLINGTON TERRIER',\n",
    "'GERMAN SHEPHERD DOG',\n",
    "'MINIATURE DACHSHUND',\n",
    "'CHOW CHOW',\n",
    "'DOBERMANN',\n",
    "'AMERICAN COCKER SPANIEL',\n",
    "'AKITA',\n",
    "'PEKINGESE',\n",
    "'CAUCASIAN OVTCHARKA',\n",
    "'YORKSHIRE TERRIER',\n",
    "'SAMOYED',\n",
    "'CENTRAL ASIAN OVTCHARKA',\n",
    "'SIBERIAN HUSKY',\n",
    "'GREAT DANE',\n",
    "'Whippets',\n",
    "'AMERICAN AKITA',\n",
    "'Papillons',\n",
    "'Border Collies',\n",
    "'BULL TERRIER',\n",
    "'SCHNAUZER',\n",
    "'AFGHAN HOUND',\n",
    "'DOGO ARGENTINO',\n",
    "'TIBETAN MASTIFF',\n",
    "'BELGIAN SHEPHERD DOG',\n",
    "'JACK RUSSELL TERRIER',\n",
    "'POODLE',\n",
    "'WEST SIBERIAN LAIKA',\n",
    "'Shih Tzu',\n",
    "'ANATOLIAN SHEPHERD DOG',\n",
    "'RABBIT DACHSHUND',\n",
    "'GERMAN POINTER',\n",
    "'IRISHSOFT COATED WHEATEN TERRIER',\n",
    "'Boston Terriers',\n",
    "'Boxers',\n",
    "'CZECHOSLOVAKIAN WOLFDOG',\n",
    "'AFFENPINSCHER',\n",
    "'COLLIE ROUGH',\n",
    "'Alaskan Malamutes',\n",
    "'WIRE FOX TERRIER',\n",
    "'WEIMARANER',\n",
    "'BASENJI',\n",
    "'EAST SIBERIAN LAIKA',\n",
    "'SCOTTISH TERRIER',\n",
    "'DOGO CANARIO',\n",
    "'JAPANESE CHIN',\n",
    "'AMERICAN STAFFORDSHIRE TERRIER',\n",
    "'KERRY BLUE TERRIER',\n",
    "'LAKELAND TERRIER',\n",
    "'NORFOLK TERRIER',\n",
    "'SMOOTH FOX TERRIER',\n",
    "'WEST HIGHLAND WHITE TERRIER',\n",
    "'PULI',\n",
    "'IRISH WOLF HOUND',\n",
    "'MINIATURE PINSCHER',\n",
    "'BULL MASTIFF',\n",
    "'BEAGLE',\n",
    "'BASSET HOUND',\n",
    "'CHINESE CRESTED DOG',\n",
    "'PYRENEAN MOUNTAIN DOG',\n",
    "'LHASA APSO',\n",
    "'NEWFOUNDLAND',\n",
    "'VIZSLA',\n",
    "'AUSTRALIAN SHEPHERD DOG',\n",
    "'BERNESE MOUNTAIN DOG',\n",
    "'BRACCO ITALIANO',\n",
    "'Leonbergers',\n",
    "'NEAPOLITAN MASTIFF',\n",
    "'NORWICH TERRIER',\n",
    "'PARSON RUSSELL TERRIER',\n",
    "'RHODESIAN RIDGEBACK',\n",
    "'English Springer Spaniels']"
   ]
  },
  {
   "cell_type": "code",
   "execution_count": 70,
   "metadata": {},
   "outputs": [],
   "source": [
    "#한장씩 xpath활용 (플리커 사용) #위 코드와 주소만 다를 뿐인데 수집이 불가능한 코드\n",
    "n=1\n",
    "#while True:\n",
    "img = driver.find_element_by_xpath('/html/body/div[1]/div/main/div[2]/div/div[2]/div['+str(n)+']')\n",
    "imgUrl = img.get_attribute('style')\n",
    "imgUrl = 'https:'+imgUrl[len('transform: translate(0px, 0px); width: 133px; height: 199px; background-image: url(\"'):-len('.jp')]\n",
    "with urlopen(imgUrl) as f:\n",
    "    with open('dogimages/'+str(n)+'.jpg','wb') as h: # 이미지 + 사진번호 + 확장자는 jpg\n",
    "        img = f.read() #이미지 읽기\n",
    "        h.write(img)                                       \n",
    "        "
   ]
  },
  {
   "cell_type": "code",
   "execution_count": 19,
   "metadata": {},
   "outputs": [
    {
     "ename": "IndexError",
     "evalue": "list index out of range",
     "output_type": "error",
     "traceback": [
      "\u001b[1;31m---------------------------------------------------------------------------\u001b[0m",
      "\u001b[1;31mIndexError\u001b[0m                                Traceback (most recent call last)",
      "\u001b[1;32m<ipython-input-19-5f4bc2fa75da>\u001b[0m in \u001b[0;36m<module>\u001b[1;34m\u001b[0m\n\u001b[0;32m      5\u001b[0m     \u001b[0mimgUrl\u001b[0m \u001b[1;33m=\u001b[0m \u001b[0mimg\u001b[0m\u001b[1;33m.\u001b[0m\u001b[0mget_attribute\u001b[0m\u001b[1;33m(\u001b[0m\u001b[1;34m'style'\u001b[0m\u001b[1;33m)\u001b[0m\u001b[1;33m\u001b[0m\u001b[1;33m\u001b[0m\u001b[0m\n\u001b[0;32m      6\u001b[0m     \u001b[0mimgUrl\u001b[0m \u001b[1;33m=\u001b[0m \u001b[0mre\u001b[0m\u001b[1;33m.\u001b[0m\u001b[0mfindall\u001b[0m\u001b[1;33m(\u001b[0m\u001b[1;34m'url.*?.jpg'\u001b[0m\u001b[1;33m,\u001b[0m \u001b[0mimgUrl\u001b[0m\u001b[1;33m)\u001b[0m\u001b[1;33m\u001b[0m\u001b[1;33m\u001b[0m\u001b[0m\n\u001b[1;32m----> 7\u001b[1;33m     \u001b[0mimgUrl\u001b[0m\u001b[1;33m=\u001b[0m\u001b[0mimgUrl\u001b[0m\u001b[1;33m[\u001b[0m\u001b[1;36m0\u001b[0m\u001b[1;33m]\u001b[0m\u001b[1;33m.\u001b[0m\u001b[0mreplace\u001b[0m\u001b[1;33m(\u001b[0m\u001b[1;34m'url(\"'\u001b[0m\u001b[1;33m,\u001b[0m\u001b[1;34m\"\"\u001b[0m\u001b[1;33m)\u001b[0m\u001b[1;33m\u001b[0m\u001b[1;33m\u001b[0m\u001b[0m\n\u001b[0m\u001b[0;32m      8\u001b[0m     \u001b[0mimgUrl\u001b[0m \u001b[1;33m=\u001b[0m \u001b[1;34m'https:'\u001b[0m\u001b[1;33m+\u001b[0m\u001b[0mimgUrl\u001b[0m\u001b[1;33m\u001b[0m\u001b[1;33m\u001b[0m\u001b[0m\n\u001b[0;32m      9\u001b[0m     \u001b[1;32mwith\u001b[0m \u001b[0murlopen\u001b[0m\u001b[1;33m(\u001b[0m\u001b[0mimgUrl\u001b[0m\u001b[1;33m)\u001b[0m \u001b[1;32mas\u001b[0m \u001b[0mf\u001b[0m\u001b[1;33m:\u001b[0m\u001b[1;33m\u001b[0m\u001b[1;33m\u001b[0m\u001b[0m\n",
      "\u001b[1;31mIndexError\u001b[0m: list index out of range"
     ]
    }
   ],
   "source": [
    "#한장씩 xpath활용 (플리커 이미지 수집) ####사용가능\n",
    "n=1\n",
    "while True:    \n",
    "    img = driver.find_element_by_xpath('/html/body/div[1]/div/main/div[2]/div/div[2]/div['+str(n)+']')     \n",
    "    imgUrl = img.get_attribute('style')\n",
    "    imgUrl = re.findall('url.*?.jpg', imgUrl)\n",
    "    imgUrl=imgUrl[0].replace('url(\"',\"\")\n",
    "    imgUrl = 'https:'+imgUrl       \n",
    "    with urlopen(imgUrl) as f:\n",
    "        with open('dogimages/BEDLINGTON TERRIER/'+str(n)+'.jpg','wb') as h: # 이미지 + 사진번호 + 확장자는 jpg\n",
    "            img = f.read() #이미지 읽기\n",
    "            h.write(img)   \n",
    "    \n",
    "    if n % 18 == 0 :\n",
    "        body = driver.find_element_by_css_selector('body')\n",
    "        body.send_keys(Keys.PAGE_DOWN)\n",
    "        time.sleep(2)\n",
    "    n = n + 1\n"
   ]
  },
  {
   "cell_type": "code",
   "execution_count": 102,
   "metadata": {},
   "outputs": [
    {
     "ename": "IndexError",
     "evalue": "list index out of range",
     "output_type": "error",
     "traceback": [
      "\u001b[1;31m---------------------------------------------------------------------------\u001b[0m",
      "\u001b[1;31mIndexError\u001b[0m                                Traceback (most recent call last)",
      "\u001b[1;32m<ipython-input-102-e7c81b855f31>\u001b[0m in \u001b[0;36m<module>\u001b[1;34m\u001b[0m\n\u001b[0;32m      5\u001b[0m     \u001b[0mimgUrl\u001b[0m \u001b[1;33m=\u001b[0m \u001b[0mi\u001b[0m\u001b[1;33m.\u001b[0m\u001b[0mget_attribute\u001b[0m\u001b[1;33m(\u001b[0m\u001b[1;34m'style'\u001b[0m\u001b[1;33m)\u001b[0m\u001b[1;33m\u001b[0m\u001b[1;33m\u001b[0m\u001b[0m\n\u001b[0;32m      6\u001b[0m     \u001b[0mimgUrl\u001b[0m \u001b[1;33m=\u001b[0m \u001b[0mre\u001b[0m\u001b[1;33m.\u001b[0m\u001b[0mfindall\u001b[0m\u001b[1;33m(\u001b[0m\u001b[1;34m'url.*?.jpg'\u001b[0m\u001b[1;33m,\u001b[0m \u001b[0mimgUrl\u001b[0m\u001b[1;33m)\u001b[0m\u001b[1;33m\u001b[0m\u001b[1;33m\u001b[0m\u001b[0m\n\u001b[1;32m----> 7\u001b[1;33m     \u001b[0mimgUrl\u001b[0m \u001b[1;33m=\u001b[0m \u001b[0mimgUrl\u001b[0m\u001b[1;33m[\u001b[0m\u001b[1;36m0\u001b[0m\u001b[1;33m]\u001b[0m\u001b[1;33m.\u001b[0m\u001b[0mreplace\u001b[0m\u001b[1;33m(\u001b[0m\u001b[1;34m'url(\"'\u001b[0m\u001b[1;33m,\u001b[0m\u001b[1;34m\"\"\u001b[0m\u001b[1;33m)\u001b[0m\u001b[1;33m\u001b[0m\u001b[1;33m\u001b[0m\u001b[0m\n\u001b[0m\u001b[0;32m      8\u001b[0m     \u001b[0mimgUrl\u001b[0m \u001b[1;33m=\u001b[0m \u001b[1;34m'https:'\u001b[0m\u001b[1;33m+\u001b[0m\u001b[0mimgUrl\u001b[0m\u001b[1;33m\u001b[0m\u001b[1;33m\u001b[0m\u001b[0m\n\u001b[0;32m      9\u001b[0m     \u001b[1;32mwith\u001b[0m \u001b[0murlopen\u001b[0m\u001b[1;33m(\u001b[0m\u001b[0mimgUrl\u001b[0m\u001b[1;33m)\u001b[0m \u001b[1;32mas\u001b[0m \u001b[0mf\u001b[0m\u001b[1;33m:\u001b[0m\u001b[1;33m\u001b[0m\u001b[1;33m\u001b[0m\u001b[0m\n",
      "\u001b[1;31mIndexError\u001b[0m: list index out of range"
     ]
    }
   ],
   "source": [
    "#여러장 xpath활용 (플리커 이미지 수집) (안되는듯)\n",
    "n = 1774\n",
    "img = driver.find_elements_by_xpath('/html/body/div[1]/div/main/div[2]/div/div[2]/div['+str(n)+']')\n",
    "for i in img:\n",
    "    imgUrl = i.get_attribute('style')\n",
    "    imgUrl = re.findall('url.*?.jpg', imgUrl)\n",
    "    imgUrl = imgUrl[0].replace('url(\"',\"\")\n",
    "    imgUrl = 'https:'+imgUrl       \n",
    "    with urlopen(imgUrl) as f:\n",
    "        with open('dogimages/jindo dog/'+str(n)+'.jpg','wb') as h: # 이미지 + 사진번호 + 확장자는 jpg\n",
    "            img = f.read() #이미지 읽기\n",
    "            h.write(img)   \n",
    "\n",
    "    if n % 17 == 0 :\n",
    "        body = driver.find_element_by_css_selector('body')\n",
    "        body.send_keys(Keys.PAGE_DOWN)\n",
    "        time.sleep(2)\n",
    "    n = n + 1\n",
    "\n",
    "    "
   ]
  },
  {
   "cell_type": "code",
   "execution_count": 93,
   "metadata": {},
   "outputs": [
    {
     "name": "stdout",
     "output_type": "stream",
     "text": [
      "//live.staticflickr.com/3411/3485253083_f9e971e138_n.jpg\n"
     ]
    }
   ],
   "source": [
    "imgUrl = img.get_attribute('style')\n",
    "imgUrl = re.findall('url.*?.jpg', imgUrl)\n",
    "imgUrl=imgUrl[0].replace('url(\"',\"\")\n",
    "print(imgUrl)"
   ]
  },
  {
   "cell_type": "code",
   "execution_count": 32,
   "metadata": {},
   "outputs": [
    {
     "data": {
      "text/plain": [
       "\"  with urlopen(imgUrl) as f:\\n        with open('dogimages/'+str(n)+'.jpg','wb') as h: # 이미지 + 사진번호 + 확장자는 jpg\\n            img = f.read() #이미지 읽기\\n            h.write(img) \\n            time.sleep(1)           \\n            n = n+1\\n    if n % 20 == 0 :\\n        body = driver.find_element_by_css_selector('body')\\n        body.send_keys(Keys.PAGE_DOWN)\""
      ]
     },
     "execution_count": 32,
     "metadata": {},
     "output_type": "execute_result"
    }
   ],
   "source": [
    "                    \n",
    "'''  with urlopen(imgUrl) as f:\n",
    "        with open('dogimages/'+str(n)+'.jpg','wb') as h: # 이미지 + 사진번호 + 확장자는 jpg\n",
    "            img = f.read() #이미지 읽기\n",
    "            h.write(img) \n",
    "            time.sleep(1)           \n",
    "            n = n+1\n",
    "    if n % 20 == 0 :\n",
    "        body = driver.find_element_by_css_selector('body')\n",
    "        body.send_keys(Keys.PAGE_DOWN)'''"
   ]
  },
  {
   "cell_type": "code",
   "execution_count": 72,
   "metadata": {},
   "outputs": [],
   "source": [
    "body = driver.find_element_by_css_selector('body')\n",
    "body.send_keys(Keys.PAGE_DOWN)"
   ]
  },
  {
   "cell_type": "code",
   "execution_count": null,
   "metadata": {},
   "outputs": [],
   "source": [
    "#결과 자세히 알아보기 누르기\n",
    "import json\n",
    "import urllib.request\n",
    "#hdr = {'User-Agent':'Mozilla/5.0 (Windows NT 10.0; Win64; x64) '+ \n",
    " #       'AppleWebKit/537.36 (KHTML, like Gecko) Chrome/75.0.3770.80 Safari/537.36'}\n",
    "img = driver.find_element_by_xpath('//*[@id=\"yui_3_16_0_1_1620261521805_211787\"]/div/a')\n",
    "opener = urllib.request.build_opener()\n",
    "opener.addheaders=[('User-Agent','Mozilla/5.0 (Windows NT 10.0; Win64; x64) '+'AppleWebKit/537.36 (KHTML, like Gecko) Chrome/75.0.3770.80 Safari/537.36')]\n",
    "urllib.request.install_opener(opener)\n",
    "urllib.request.urlretrleve(img,'data/1.jpg')\n",
    "\n",
    "#req = urllib.request.Request('https://www.flickr.com/search/?text=jindo%20dog', headers = hdr)\n",
    "#data = urllib.request.urlopen(req).read()\n",
    "\n",
    "#button = driver.find_element_by_xpath('/html/body/div[1]/div/main/div[2]/div/div[2]/div[1385]/div/div/a') \n",
    "#button.click()"
   ]
  },
  {
   "cell_type": "code",
   "execution_count": 16,
   "metadata": {},
   "outputs": [
    {
     "name": "stdout",
     "output_type": "stream",
     "text": [
      "b'\\xef\\xbb\\xbf{ \"result\" : \"\\xeb\\xb8\\x8c\\xeb\\x9d\\xbc\\xec\\x9a\\xb0\\xec\\xa0\\x80 \\xec\\x9a\\x94\\xec\\xb2\\xad\\xec\\x9e\\x85\\xeb\\x8b\\x88\\xeb\\x8b\\xa4.\" }'\n",
      "브라우저 요청입니다.\n"
     ]
    }
   ],
   "source": [
    "#크롤링을 거부하는 웹사이트의 경우 필요하다 \n",
    "import json\n",
    "import urllib.request\n",
    "\n",
    "#User-Agent를 조작하는 경우 \n",
    "hdr = {'User-Agent':'Mozilla/5.0 (Windows NT 10.0; Win64; x64) '+ \n",
    "        'AppleWebKit/537.36 (KHTML, like Gecko) Chrome/75.0.3770.80 Safari/537.36'}\n",
    "\n",
    "req = urllib.request.Request('http://unico2013.dothome.co.kr/crawling/header.php', headers = hdr)\n",
    "#req = urllib.request.Request('http://unico2013.dothome.co.kr/crawling/header.php')\n",
    "data = urllib.request.urlopen(req).read()\n",
    "print(data)\n",
    "#page = data.decode('utf-8', 'ignore')\n",
    "res_content = json.loads(data)\n",
    "\n",
    "print(res_content[\"result\"])\n"
   ]
  },
  {
   "cell_type": "code",
   "execution_count": null,
   "metadata": {},
   "outputs": [],
   "source": [
    "#한장씩 #요거 사용하는게 좋습니다.\n",
    "n=661\n",
    "num=661\n",
    "while True:\n",
    "    img = driver.find_element_by_css_selector('#islrg > div.islrc > div:nth-child('+str(num)+') > a.wXeWr.islib.nfEiy.mM5pbd > div.bRMDJf.islir > img')\n",
    "    num = num + 1\n",
    "    imgUrl = img.get_attribute('src')\n",
    "    with urlopen(imgUrl) as f:\n",
    "        with open('dogimages/WELSH CORGI/'+str(n)+'.jpg','wb') as h: # 이미지 + 사진번호 + 확장자는 jpg\n",
    "            img = f.read() #이미지 읽기\n",
    "            h.write(img) \n",
    "            time.sleep(1)\n",
    "            n = n+1\n",
    "    body = driver.find_element_by_css_selector('body')\n",
    "    body.send_keys(Keys.PAGE_DOWN)\n",
    "    time.sleep(1)\n",
    "    "
   ]
  }
 ],
 "metadata": {
  "kernelspec": {
   "display_name": "pydatavenv",
   "language": "python",
   "name": "pydatavenv"
  },
  "language_info": {
   "codemirror_mode": {
    "name": "ipython",
    "version": 3
   },
   "file_extension": ".py",
   "mimetype": "text/x-python",
   "name": "python",
   "nbconvert_exporter": "python",
   "pygments_lexer": "ipython3",
   "version": "3.8.8"
  }
 },
 "nbformat": 4,
 "nbformat_minor": 4
}
